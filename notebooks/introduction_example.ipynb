{
 "cells": [
  {
   "cell_type": "code",
   "execution_count": 1,
   "id": "9f33ec67",
   "metadata": {},
   "outputs": [],
   "source": [
    "# required modules (under Anaconda use: > conda install -c conda-forge <package>)\n",
    "if False: # (skip if already installed)\n",
    "    !pip install lark-parser\n",
    "    !pip install linear-tree\n",
    "    !pip install pydot\n",
    "    !pip install pydotplus\n",
    "    # download and install SWI Prolog from https://www.swi-prolog.org/download/stable\n",
    "    # be sure that the executable is added to the PATH"
   ]
  },
  {
   "cell_type": "code",
   "execution_count": 2,
   "id": "1e86b627",
   "metadata": {},
   "outputs": [],
   "source": [
    "%load_ext autoreload\n",
    "%autoreload 2\n",
    "%matplotlib inline\n",
    "\n",
    "# standard imports\n",
    "import sys\n",
    "import random\n",
    "import pandas as pd\n",
    "import numpy as np\n",
    "from sklearn.model_selection import train_test_split\n",
    "from sklearn.tree import DecisionTreeClassifier\n",
    "\n",
    "# local imports\n",
    "sys.path.append('../src/') # local path\n",
    "import reasonx\n",
    "import dautils"
   ]
  },
  {
   "cell_type": "markdown",
   "id": "7d3d62b7",
   "metadata": {},
   "source": [
    "### Set dataframe"
   ]
  },
  {
   "cell_type": "code",
   "execution_count": 3,
   "id": "c7b201a6",
   "metadata": {},
   "outputs": [
    {
     "name": "stdout",
     "output_type": "stream",
     "text": [
      "<class 'pandas.core.frame.DataFrame'>\n",
      "RangeIndex: 1000 entries, 0 to 999\n",
      "Data columns (total 4 columns):\n",
      " #   Column  Non-Null Count  Dtype\n",
      "---  ------  --------------  -----\n",
      " 0   t1      1000 non-null   int64\n",
      " 1   t2      1000 non-null   int64\n",
      " 2   t       1000 non-null   int64\n",
      " 3   y       1000 non-null   int64\n",
      "dtypes: int64(4)\n",
      "memory usage: 31.4 KB\n"
     ]
    }
   ],
   "source": [
    "# Generate 100 random values for x from a normal distribution\n",
    "random.seed(40)\n",
    "t1 = np.round(np.random.uniform(-50, 100, 1000)).astype(int)\n",
    "t2 = np.round(np.random.uniform(0, 180, 1000)).astype(int)\n",
    "t = t1+t2\n",
    "\n",
    "# Apply the condition: c = 0 if x <= 0 or x >= 100, else y = 1\n",
    "y = np.where( np.logical_or(t <= 0, t >= 100), 0, 1)\n",
    "\n",
    "# Create the DataFrame\n",
    "df = pd.DataFrame({'t1': t1, 't2': t2, 't': t, 'y': y})\n",
    "pred_atts = ['t1', 't2', 't']\n",
    "target = 'y'\n",
    "df.info()"
   ]
  },
  {
   "cell_type": "code",
   "execution_count": 4,
   "id": "d4acacb3",
   "metadata": {},
   "outputs": [
    {
     "data": {
      "text/html": [
       "<div>\n",
       "<style scoped>\n",
       "    .dataframe tbody tr th:only-of-type {\n",
       "        vertical-align: middle;\n",
       "    }\n",
       "\n",
       "    .dataframe tbody tr th {\n",
       "        vertical-align: top;\n",
       "    }\n",
       "\n",
       "    .dataframe thead th {\n",
       "        text-align: right;\n",
       "    }\n",
       "</style>\n",
       "<table border=\"1\" class=\"dataframe\">\n",
       "  <thead>\n",
       "    <tr style=\"text-align: right;\">\n",
       "      <th></th>\n",
       "      <th>t1</th>\n",
       "      <th>t2</th>\n",
       "      <th>t</th>\n",
       "      <th>y</th>\n",
       "    </tr>\n",
       "  </thead>\n",
       "  <tbody>\n",
       "    <tr>\n",
       "      <th>0</th>\n",
       "      <td>47</td>\n",
       "      <td>94</td>\n",
       "      <td>141</td>\n",
       "      <td>0</td>\n",
       "    </tr>\n",
       "    <tr>\n",
       "      <th>1</th>\n",
       "      <td>81</td>\n",
       "      <td>107</td>\n",
       "      <td>188</td>\n",
       "      <td>0</td>\n",
       "    </tr>\n",
       "    <tr>\n",
       "      <th>2</th>\n",
       "      <td>24</td>\n",
       "      <td>20</td>\n",
       "      <td>44</td>\n",
       "      <td>1</td>\n",
       "    </tr>\n",
       "    <tr>\n",
       "      <th>3</th>\n",
       "      <td>44</td>\n",
       "      <td>52</td>\n",
       "      <td>96</td>\n",
       "      <td>1</td>\n",
       "    </tr>\n",
       "    <tr>\n",
       "      <th>4</th>\n",
       "      <td>80</td>\n",
       "      <td>99</td>\n",
       "      <td>179</td>\n",
       "      <td>0</td>\n",
       "    </tr>\n",
       "    <tr>\n",
       "      <th>...</th>\n",
       "      <td>...</td>\n",
       "      <td>...</td>\n",
       "      <td>...</td>\n",
       "      <td>...</td>\n",
       "    </tr>\n",
       "    <tr>\n",
       "      <th>995</th>\n",
       "      <td>88</td>\n",
       "      <td>54</td>\n",
       "      <td>142</td>\n",
       "      <td>0</td>\n",
       "    </tr>\n",
       "    <tr>\n",
       "      <th>996</th>\n",
       "      <td>-38</td>\n",
       "      <td>45</td>\n",
       "      <td>7</td>\n",
       "      <td>1</td>\n",
       "    </tr>\n",
       "    <tr>\n",
       "      <th>997</th>\n",
       "      <td>-15</td>\n",
       "      <td>152</td>\n",
       "      <td>137</td>\n",
       "      <td>0</td>\n",
       "    </tr>\n",
       "    <tr>\n",
       "      <th>998</th>\n",
       "      <td>2</td>\n",
       "      <td>170</td>\n",
       "      <td>172</td>\n",
       "      <td>0</td>\n",
       "    </tr>\n",
       "    <tr>\n",
       "      <th>999</th>\n",
       "      <td>25</td>\n",
       "      <td>56</td>\n",
       "      <td>81</td>\n",
       "      <td>1</td>\n",
       "    </tr>\n",
       "  </tbody>\n",
       "</table>\n",
       "<p>1000 rows × 4 columns</p>\n",
       "</div>"
      ],
      "text/plain": [
       "     t1   t2    t  y\n",
       "0    47   94  141  0\n",
       "1    81  107  188  0\n",
       "2    24   20   44  1\n",
       "3    44   52   96  1\n",
       "4    80   99  179  0\n",
       "..   ..  ...  ... ..\n",
       "995  88   54  142  0\n",
       "996 -38   45    7  1\n",
       "997 -15  152  137  0\n",
       "998   2  170  172  0\n",
       "999  25   56   81  1\n",
       "\n",
       "[1000 rows x 4 columns]"
      ]
     },
     "execution_count": 4,
     "metadata": {},
     "output_type": "execute_result"
    }
   ],
   "source": [
    "# df \n",
    "df"
   ]
  },
  {
   "cell_type": "markdown",
   "id": "d5460527",
   "metadata": {},
   "source": [
    "### Build global decision tree"
   ]
  },
  {
   "cell_type": "code",
   "execution_count": 5,
   "id": "4b11a8ee",
   "metadata": {},
   "outputs": [
    {
     "data": {
      "text/html": [
       "<style>#sk-container-id-1 {color: black;background-color: white;}#sk-container-id-1 pre{padding: 0;}#sk-container-id-1 div.sk-toggleable {background-color: white;}#sk-container-id-1 label.sk-toggleable__label {cursor: pointer;display: block;width: 100%;margin-bottom: 0;padding: 0.3em;box-sizing: border-box;text-align: center;}#sk-container-id-1 label.sk-toggleable__label-arrow:before {content: \"▸\";float: left;margin-right: 0.25em;color: #696969;}#sk-container-id-1 label.sk-toggleable__label-arrow:hover:before {color: black;}#sk-container-id-1 div.sk-estimator:hover label.sk-toggleable__label-arrow:before {color: black;}#sk-container-id-1 div.sk-toggleable__content {max-height: 0;max-width: 0;overflow: hidden;text-align: left;background-color: #f0f8ff;}#sk-container-id-1 div.sk-toggleable__content pre {margin: 0.2em;color: black;border-radius: 0.25em;background-color: #f0f8ff;}#sk-container-id-1 input.sk-toggleable__control:checked~div.sk-toggleable__content {max-height: 200px;max-width: 100%;overflow: auto;}#sk-container-id-1 input.sk-toggleable__control:checked~label.sk-toggleable__label-arrow:before {content: \"▾\";}#sk-container-id-1 div.sk-estimator input.sk-toggleable__control:checked~label.sk-toggleable__label {background-color: #d4ebff;}#sk-container-id-1 div.sk-label input.sk-toggleable__control:checked~label.sk-toggleable__label {background-color: #d4ebff;}#sk-container-id-1 input.sk-hidden--visually {border: 0;clip: rect(1px 1px 1px 1px);clip: rect(1px, 1px, 1px, 1px);height: 1px;margin: -1px;overflow: hidden;padding: 0;position: absolute;width: 1px;}#sk-container-id-1 div.sk-estimator {font-family: monospace;background-color: #f0f8ff;border: 1px dotted black;border-radius: 0.25em;box-sizing: border-box;margin-bottom: 0.5em;}#sk-container-id-1 div.sk-estimator:hover {background-color: #d4ebff;}#sk-container-id-1 div.sk-parallel-item::after {content: \"\";width: 100%;border-bottom: 1px solid gray;flex-grow: 1;}#sk-container-id-1 div.sk-label:hover label.sk-toggleable__label {background-color: #d4ebff;}#sk-container-id-1 div.sk-serial::before {content: \"\";position: absolute;border-left: 1px solid gray;box-sizing: border-box;top: 0;bottom: 0;left: 50%;z-index: 0;}#sk-container-id-1 div.sk-serial {display: flex;flex-direction: column;align-items: center;background-color: white;padding-right: 0.2em;padding-left: 0.2em;position: relative;}#sk-container-id-1 div.sk-item {position: relative;z-index: 1;}#sk-container-id-1 div.sk-parallel {display: flex;align-items: stretch;justify-content: center;background-color: white;position: relative;}#sk-container-id-1 div.sk-item::before, #sk-container-id-1 div.sk-parallel-item::before {content: \"\";position: absolute;border-left: 1px solid gray;box-sizing: border-box;top: 0;bottom: 0;left: 50%;z-index: -1;}#sk-container-id-1 div.sk-parallel-item {display: flex;flex-direction: column;z-index: 1;position: relative;background-color: white;}#sk-container-id-1 div.sk-parallel-item:first-child::after {align-self: flex-end;width: 50%;}#sk-container-id-1 div.sk-parallel-item:last-child::after {align-self: flex-start;width: 50%;}#sk-container-id-1 div.sk-parallel-item:only-child::after {width: 0;}#sk-container-id-1 div.sk-dashed-wrapped {border: 1px dashed gray;margin: 0 0.4em 0.5em 0.4em;box-sizing: border-box;padding-bottom: 0.4em;background-color: white;}#sk-container-id-1 div.sk-label label {font-family: monospace;font-weight: bold;display: inline-block;line-height: 1.2em;}#sk-container-id-1 div.sk-label-container {text-align: center;}#sk-container-id-1 div.sk-container {/* jupyter's `normalize.less` sets `[hidden] { display: none; }` but bootstrap.min.css set `[hidden] { display: none !important; }` so we also need the `!important` here to be able to override the default hidden behavior on the sphinx rendered scikit-learn.org. See: https://github.com/scikit-learn/scikit-learn/issues/21755 */display: inline-block !important;position: relative;}#sk-container-id-1 div.sk-text-repr-fallback {display: none;}</style><div id=\"sk-container-id-1\" class=\"sk-top-container\"><div class=\"sk-text-repr-fallback\"><pre>DecisionTreeClassifier(max_depth=3)</pre><b>In a Jupyter environment, please rerun this cell to show the HTML representation or trust the notebook. <br />On GitHub, the HTML representation is unable to render, please try loading this page with nbviewer.org.</b></div><div class=\"sk-container\" hidden><div class=\"sk-item\"><div class=\"sk-estimator sk-toggleable\"><input class=\"sk-toggleable__control sk-hidden--visually\" id=\"sk-estimator-id-1\" type=\"checkbox\" checked><label for=\"sk-estimator-id-1\" class=\"sk-toggleable__label sk-toggleable__label-arrow\">DecisionTreeClassifier</label><div class=\"sk-toggleable__content\"><pre>DecisionTreeClassifier(max_depth=3)</pre></div></div></div></div></div>"
      ],
      "text/plain": [
       "DecisionTreeClassifier(max_depth=3)"
      ]
     },
     "execution_count": 5,
     "metadata": {},
     "output_type": "execute_result"
    }
   ],
   "source": [
    "# split predictive and target\n",
    "X, y = df[pred_atts], df[target]\n",
    "# train a decision tree\n",
    "clf = DecisionTreeClassifier(max_depth=3)\n",
    "clf.fit(X, y)"
   ]
  },
  {
   "cell_type": "code",
   "execution_count": 6,
   "id": "74276ce0",
   "metadata": {},
   "outputs": [
    {
     "data": {
      "image/png": "[encoded data removed]",
      "text/plain": [
       "<IPython.core.display.Image object>"
      ]
     },
     "execution_count": 6,
     "metadata": {},
     "output_type": "execute_result"
    }
   ],
   "source": [
    "from sklearn import tree\n",
    "import pydotplus\n",
    "from IPython.display import Image\n",
    "\n",
    "# visualize the decision tree\n",
    "dot_data = tree.export_graphviz(clf, out_file=None, \n",
    "                    feature_names=pred_atts, # attributes names\n",
    "                    class_names=[\"0\", \"1\"], # class labels\n",
    "                    filled=True, rounded=True)  \n",
    "graph = pydotplus.graph_from_dot_data(dot_data)  \n",
    "Image(graph.create_png())"
   ]
  },
  {
   "cell_type": "markdown",
   "id": "f760dc7a",
   "metadata": {},
   "source": [
    "### Explain tree with ReasonX"
   ]
  },
  {
   "cell_type": "code",
   "execution_count": 7,
   "id": "a1f0889f",
   "metadata": {},
   "outputs": [],
   "source": [
    "# DT embedding\n",
    "df_code = dautils.Encode(nominal=[], ordinal=[target], decode={}, onehot=True, prefix_sep=\"_\")\n",
    "df_code.fit_transform(df)\n",
    "r = reasonx.ReasonX(pred_atts, target, df_code, verbose=2) # verbose=2 high verbosity\n",
    "r.model(clf)"
   ]
  },
  {
   "cell_type": "code",
   "execution_count": 8,
   "id": "413ac421",
   "metadata": {},
   "outputs": [
    {
     "name": "stdout",
     "output_type": "stream",
     "text": [
      "---\n",
      "Answer constraint: F.t1= -10.0,F.t2=20.0,F.t>0.5,F.t<=99.5\n",
      "Rule satisfied by F: IF F.t>0.5,F.t<=99.5 THEN 1 [1.0000]\n"
     ]
    }
   ],
   "source": [
    "# factual rule on an instance\n",
    "r.instance('F', label=1)\n",
    "r.constraint(\"F.t1 = -10, F.t2 = 20\")\n",
    "r.solveopt()"
   ]
  },
  {
   "cell_type": "code",
   "execution_count": 9,
   "id": "b3c32629-3b63-4428-9b88-c1023c217941",
   "metadata": {},
   "outputs": [
    {
     "name": "stdout",
     "output_type": "stream",
     "text": [
      "---\n",
      "Answer constraint: F.t1= -10.0,F.t2>10.5,F.t2<=109.5,F.t= -10.0+F.t2\n",
      "Rule satisfied by F: IF F.t>0.5,F.t<=99.5 THEN 1 [1.0000]\n"
     ]
    }
   ],
   "source": [
    "# set user constraints\n",
    "r.reset(keep_model=True)\n",
    "r.instance('F', label=1)\n",
    "r.constraint(\"F.t=F.t1+F.t2, F.t1 = -10\")\n",
    "r.verbosity(2)  # low verbosity\n",
    "r.solveopt()"
   ]
  },
  {
   "cell_type": "code",
   "execution_count": 10,
   "id": "557a66b5",
   "metadata": {},
   "outputs": [
    {
     "name": "stdout",
     "output_type": "stream",
     "text": [
      "---\n",
      "Answer constraint: F.t1>= -15.0,F.t1<= -5.0,F.t2= -F.t1+F.t,F.t>0.5,F.t<=99.5\n",
      "Rule satisfied by F: IF F.t>0.5,F.t<=99.5 THEN 1 [1.0000]\n"
     ]
    }
   ],
   "source": [
    "# set user constraints\n",
    "r.reset(keep_model=True)\n",
    "r.instance('F', label=1)\n",
    "r.constraint(\"F.t=F.t1+F.t2, F.t1 >= -15, F.t1 <= -5\")\n",
    "r.verbosity(2)  # low verbosity\n",
    "r.solveopt()"
   ]
  },
  {
   "cell_type": "code",
   "execution_count": 11,
   "id": "c922fb15-dae5-4940-bebe-c1799e883f91",
   "metadata": {},
   "outputs": [
    {
     "name": "stdout",
     "output_type": "stream",
     "text": [
      "---\n",
      "Answer constraint: F.t1>= -15.0,F.t1<= -5.0,F.t1+F.t2>0.5,F.t1+F.t2<=99.5\n",
      "Rule satisfied by F: IF  THEN 1 [1.0000]\n"
     ]
    }
   ],
   "source": [
    "r.solveopt(project=[\"F.t1\",\"F.t2\"])"
   ]
  },
  {
   "cell_type": "code",
   "execution_count": 12,
   "id": "6eaedc46-f27b-4d15-b168-3b216dff75d4",
   "metadata": {},
   "outputs": [
    {
     "name": "stdout",
     "output_type": "stream",
     "text": [
      "---\n",
      "Answer constraint: F.t2>5.5,F.t2<=114.5\n",
      "Rule satisfied by F: IF  THEN 1 [1.0000]\n"
     ]
    }
   ],
   "source": [
    "r.solveopt(project=[\"F.t2\"])"
   ]
  },
  {
   "cell_type": "code",
   "execution_count": 13,
   "id": "be564d63",
   "metadata": {},
   "outputs": [
    {
     "name": "stdout",
     "output_type": "stream",
     "text": [
      "---\n",
      "Answer constraint: CF.t1=F.t1,F.t1+CF.t2>0.5,F.t1+CF.t2<=99.5,F.t1>= -15.0,F.t1<= -5.0,F.t1+F.t2>0.5,F.t1+F.t2<=99.5\n",
      "Rule satisfied by F: IF  THEN 1 [1.0000]\n",
      "Rule satisfied by CF: IF  THEN 1 [1.0000]\n"
     ]
    }
   ],
   "source": [
    "# counter-factual rules with min conf\n",
    "r.instance('CF', label=1-y.iloc[0], minconf=0.8)\n",
    "r.constraint(\"CF.t=CF.t1+CF.t2, CF.t1=F.t1\")\n",
    "r.solveopt(project=[\"CF.t1\",\"CF.t2\", \"F.t1\", \"F.t2\"])"
   ]
  },
  {
   "cell_type": "code",
   "execution_count": 14,
   "id": "0b7b6a96",
   "metadata": {},
   "outputs": [
    {
     "name": "stdout",
     "output_type": "stream",
     "text": [
      "---\n",
      "Answer constraint: F.t>=0.5,F.t<=99.5,CF.t=F.t,F.t2= -F.t1+F.t,CF.t2= -F.t1+F.t,F.t1>= -15.0,F.t1<= -5.0,CF.t1=F.t1\n",
      "Min value: 0.0\n",
      "Rule satisfied by F: IF F.t>0.5,F.t<=99.5 THEN 1 [1.0000]\n",
      "Rule satisfied by CF: IF CF.t>0.5,CF.t<=99.5 THEN 1 [1.0000]\n"
     ]
    }
   ],
   "source": [
    "r.solveopt(minimize='l1norm(F, CF)')"
   ]
  },
  {
   "cell_type": "code",
   "execution_count": null,
   "id": "78330c3b",
   "metadata": {},
   "outputs": [],
   "source": []
  }
 ],
 "metadata": {
  "kernelspec": {
   "display_name": "clpmodular",
   "language": "python",
   "name": "python3"
  },
  "language_info": {
   "codemirror_mode": {
    "name": "ipython",
    "version": 3
   },
   "file_extension": ".py",
   "mimetype": "text/x-python",
   "name": "python",
   "nbconvert_exporter": "python",
   "pygments_lexer": "ipython3",
   "version": "3.10.4"
  }
 },
 "nbformat": 4,
 "nbformat_minor": 5
}
